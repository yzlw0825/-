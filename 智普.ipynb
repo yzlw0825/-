{
 "cells": [
  {
   "cell_type": "code",
   "execution_count": 1,
   "id": "8ce404a7-5b69-4933-be95-36c6e418f5a6",
   "metadata": {},
   "outputs": [
    {
     "name": "stdout",
     "output_type": "stream",
     "text": [
      "VideoObject(id='72241732692089974-9203095117777099125', model='cogvideox', video_result=None, task_status='PROCESSING', request_id='-9203095117777099126')\n"
     ]
    }
   ],
   "source": [
    "from zhipuai import ZhipuAI\n",
    "client = ZhipuAI(api_key = \"bbb8c764315ab23dddf8fa5630e93a05.mBeMmpFufJULY5Vt\")\n",
    "\n",
    "response = client.videos.generations(\n",
    "    model = \"cogvideox\",\n",
    "    prompt = \"烤鸡屁股配扒鸭，一日三餐就吃它；老八秘制小汉堡，一日三餐没烦恼\"\n",
    ")\n",
    "print(response)"
   ]
  },
  {
   "cell_type": "code",
   "execution_count": 2,
   "id": "85cf2778-848a-47c3-ae81-2cf390e20ee3",
   "metadata": {},
   "outputs": [
    {
     "name": "stdout",
     "output_type": "stream",
     "text": [
      "VideoObject(id=None, model='cogvideox', video_result=[VideoResult(url='https://aigc-files.bigmodel.cn/api/cogvideo/4336fa18-aca8-11ef-885a-5e01a0c308a2_0.mp4', cover_image_url='https://aigc-files.bigmodel.cn/api/cogvideo/4336fa18-aca8-11ef-885a-5e01a0c308a2_cover_0.jpeg')], task_status='SUCCESS', request_id='-9203095117777099126')\n"
     ]
    }
   ],
   "source": [
    "from zhipuai import ZhipuAI\n",
    "client = ZhipuAI(api_key = \"bbb8c764315ab23dddf8fa5630e93a05.mBeMmpFufJULY5Vt\")\n",
    "\n",
    "response = client.videos.retrieve_videos_result(\n",
    "    id = \"72241732692089974-9203095117777099125\"\n",
    ")\n",
    "print(response)"
   ]
  },
  {
   "cell_type": "code",
   "execution_count": null,
   "id": "0969a000-ed98-4bc0-ade0-bdd51efe1d5b",
   "metadata": {},
   "outputs": [],
   "source": []
  }
 ],
 "metadata": {
  "kernelspec": {
   "display_name": "Python 3 (ipykernel)",
   "language": "python",
   "name": "python3"
  },
  "language_info": {
   "codemirror_mode": {
    "name": "ipython",
    "version": 3
   },
   "file_extension": ".py",
   "mimetype": "text/x-python",
   "name": "python",
   "nbconvert_exporter": "python",
   "pygments_lexer": "ipython3",
   "version": "3.12.7"
  }
 },
 "nbformat": 4,
 "nbformat_minor": 5
}
