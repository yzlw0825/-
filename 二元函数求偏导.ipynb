{
 "cells": [
  {
   "cell_type": "code",
   "execution_count": 2,
   "id": "2da8e156-53d3-4455-a58b-a1c9da7e056b",
   "metadata": {},
   "outputs": [],
   "source": [
    "import torch"
   ]
  },
  {
   "cell_type": "code",
   "execution_count": null,
   "id": "6cba3fab-f82f-40fe-8fc4-28586c62e43e",
   "metadata": {},
   "outputs": [],
   "source": []
  },
  {
   "cell_type": "code",
   "execution_count": 7,
   "id": "a9a81f7c-2ad1-4381-bcfc-76e646cc3a47",
   "metadata": {},
   "outputs": [
    {
     "name": "stdout",
     "output_type": "stream",
     "text": [
      "关于x的偏导数: tensor([0.4889])\n",
      "关于y的偏导数: tensor([-1.2608])\n"
     ]
    }
   ],
   "source": [
    "#平时作业-求二元函数的偏导数\n",
    "# 定义x和y张量，这里示例为随机初始化的值，并设置requires_grad=True\n",
    "x = torch.randn(1, requires_grad=True)\n",
    "y = torch.randn(1, requires_grad=True)\n",
    "\n",
    "# 定义函数f(x,y)\n",
    "def f(x, y):\n",
    "    return x ** 2 + y ** 2\n",
    "\n",
    "# 计算函数值\n",
    "z = f(x, y)\n",
    "\n",
    "# 将z变成标量（这里通过求和操作）\n",
    "z_scalar = z.sum()\n",
    "\n",
    "# 计算z_scalar关于x的偏导数\n",
    "z_scalar.backward(retain_graph=True)\n",
    "print(\"关于x的偏导数:\", x.grad)\n",
    "\n",
    "# 清空之前计算的梯度，以便重新计算关于y的偏导数\n",
    "x.grad.zero_()\n",
    "y.grad.zero_()\n",
    "\n",
    "# 计算z_scalar关于y的偏导数\n",
    "z_scalar.backward()\n",
    "print(\"关于y的偏导数:\", y.grad)"
   ]
  },
  {
   "cell_type": "code",
   "execution_count": null,
   "id": "efefaece-c87e-444b-aac2-6d866655d935",
   "metadata": {},
   "outputs": [],
   "source": []
  },
  {
   "cell_type": "code",
   "execution_count": 9,
   "id": "9336517b-7383-4e59-9a18-6b4345721530",
   "metadata": {},
   "outputs": [
    {
     "name": "stdout",
     "output_type": "stream",
     "text": [
      "Sigmoid函数在x=0处的值为: 0.5\n",
      "Sigmoid函数在x=0处的导数为: 0.25\n"
     ]
    }
   ],
   "source": [
    "#使用torch张量自行实现sigmoid激活函数，并计算在它在x=0点处的导数\n",
    "import torch\n",
    "\n",
    "# 自定义实现Sigmoid函数\n",
    "def sigmoid(x):\n",
    "    return 1 / (1 + torch.exp(-x))\n",
    "\n",
    "# 定义输入张量x，设置requires_grad=True以便计算导数\n",
    "x = torch.tensor(0., requires_grad=True)\n",
    "\n",
    "# 计算Sigmoid函数在x处的值\n",
    "y = sigmoid(x)\n",
    "\n",
    "# 计算Sigmoid函数在x处的导数\n",
    "y.backward()\n",
    "\n",
    "# 输出Sigmoid函数在x=0处的值和导数\n",
    "print(\"Sigmoid函数在x=0处的值为:\", y.item())\n",
    "print(\"Sigmoid函数在x=0处的导数为:\", x.grad.item())"
   ]
  },
  {
   "cell_type": "code",
   "execution_count": null,
   "id": "dee6cbdc-d7e5-4920-9794-645ebe0df7d8",
   "metadata": {},
   "outputs": [],
   "source": []
  },
  {
   "cell_type": "code",
   "execution_count": null,
   "id": "569e5804-596a-4283-b742-289f8af20ad2",
   "metadata": {},
   "outputs": [],
   "source": []
  },
  {
   "cell_type": "code",
   "execution_count": null,
   "id": "4173a9ec-2823-4dbd-8ef4-a9e32a31a000",
   "metadata": {},
   "outputs": [],
   "source": []
  },
  {
   "cell_type": "code",
   "execution_count": null,
   "id": "9a48c7e7-c8cb-4616-bb04-d6e840c03a68",
   "metadata": {},
   "outputs": [],
   "source": []
  },
  {
   "cell_type": "code",
   "execution_count": null,
   "id": "16004eec-4b2d-45f4-a4b9-9ef1dca3a8b3",
   "metadata": {},
   "outputs": [],
   "source": []
  },
  {
   "cell_type": "code",
   "execution_count": null,
   "id": "0f7e89c1-8d64-4ee7-823b-1b0bc6820671",
   "metadata": {},
   "outputs": [],
   "source": []
  },
  {
   "cell_type": "code",
   "execution_count": null,
   "id": "72d6642b-3bc9-45ba-89e3-657dc6544f9a",
   "metadata": {},
   "outputs": [],
   "source": []
  },
  {
   "cell_type": "code",
   "execution_count": null,
   "id": "b3eadeba-7f6b-4262-95a1-0f2584238e21",
   "metadata": {},
   "outputs": [],
   "source": []
  },
  {
   "cell_type": "code",
   "execution_count": null,
   "id": "7860efd9-7ce0-49f5-9dd1-db94f50b72cd",
   "metadata": {},
   "outputs": [],
   "source": []
  },
  {
   "cell_type": "code",
   "execution_count": null,
   "id": "49543008-7bc1-4f48-9869-d39048dba2ad",
   "metadata": {},
   "outputs": [],
   "source": []
  },
  {
   "cell_type": "code",
   "execution_count": null,
   "id": "9ed135e9-d8a2-4871-8103-f5c2f170d33c",
   "metadata": {},
   "outputs": [],
   "source": []
  }
 ],
 "metadata": {
  "kernelspec": {
   "display_name": "Python 3 (ipykernel)",
   "language": "python",
   "name": "python3"
  },
  "language_info": {
   "codemirror_mode": {
    "name": "ipython",
    "version": 3
   },
   "file_extension": ".py",
   "mimetype": "text/x-python",
   "name": "python",
   "nbconvert_exporter": "python",
   "pygments_lexer": "ipython3",
   "version": "3.9.7"
  }
 },
 "nbformat": 4,
 "nbformat_minor": 5
}
