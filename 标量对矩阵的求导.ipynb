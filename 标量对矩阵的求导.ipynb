{
 "cells": [
  {
   "cell_type": "code",
   "execution_count": 3,
   "id": "88541ea7",
   "metadata": {},
   "outputs": [
    {
     "name": "stdout",
     "output_type": "stream",
     "text": [
      "tensor([[1., 1., 1.],\n",
      "        [1., 1., 1.],\n",
      "        [1., 1., 1.]])\n"
     ]
    }
   ],
   "source": [
    "import torch\n",
    "\n",
    "# 定义一个3x3的张量X，设置requires_grad=True以跟踪梯度\n",
    "X = torch.zeros(3, 3, requires_grad=True)\n",
    "\n",
    "# 定义向量a，形状为(3, 1)，并转置为列向量\n",
    "a = torch.tensor([[1.], [1.], [1.]])\n",
    "\n",
    "# 定义向量b，形状为(3, 1)，并转置为列向量\n",
    "b = torch.tensor([[1.], [1.], [1.]])\n",
    "\n",
    "# 定义函数f，按照推测的 a.T * X * b 的形式\n",
    "def f(X):\n",
    "    return torch.matmul(torch.matmul(a.T, X), b).squeeze()\n",
    "\n",
    "# 计算函数f在当前X取值下的值\n",
    "y = f(X)\n",
    "\n",
    "# 执行反向传播，计算梯度\n",
    "y.backward()\n",
    "\n",
    "# 获取X的梯度矩阵\n",
    "gradient_matrix = X.grad\n",
    "print(gradient_matrix)"
   ]
  },
  {
   "cell_type": "code",
   "execution_count": null,
   "id": "13b2a84c",
   "metadata": {},
   "outputs": [],
   "source": []
  }
 ],
 "metadata": {
  "kernelspec": {
   "display_name": "Python 3 (ipykernel)",
   "language": "python",
   "name": "python3"
  },
  "language_info": {
   "codemirror_mode": {
    "name": "ipython",
    "version": 3
   },
   "file_extension": ".py",
   "mimetype": "text/x-python",
   "name": "python",
   "nbconvert_exporter": "python",
   "pygments_lexer": "ipython3",
   "version": "3.9.7"
  }
 },
 "nbformat": 4,
 "nbformat_minor": 5
}
